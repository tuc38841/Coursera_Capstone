{
 "cells": [
  {
   "cell_type": "markdown",
   "metadata": {},
   "source": [
    "IBM Capstone Week 3 Project: Scraping Wikipedia Page"
   ]
  },
  {
   "cell_type": "code",
   "execution_count": 6,
   "metadata": {},
   "outputs": [],
   "source": [
    "import pandas as pd\n",
    "from bs4 import BeautifulSoup"
   ]
  },
  {
   "cell_type": "code",
   "execution_count": 7,
   "metadata": {},
   "outputs": [],
   "source": [
    "from urllib.request import urlopen\n",
    "wiki_page = \"https://en.wikipedia.org/wiki/List_of_postal_codes_of_Canada:_M\"\n",
    "page = urlopen(wiki_page)\n",
    "soup_data = BeautifulSoup(page, 'lxml')"
   ]
  },
  {
   "cell_type": "markdown",
   "metadata": {},
   "source": [
    "Form Table From Wiki Page"
   ]
  },
  {
   "cell_type": "code",
   "execution_count": 9,
   "metadata": {},
   "outputs": [],
   "source": [
    "table = soup_data.find('table',{'class':'wikitable sortable'})"
   ]
  },
  {
   "cell_type": "code",
   "execution_count": 12,
   "metadata": {},
   "outputs": [],
   "source": [
    "# Lists of columns for table\n",
    "postcode = []\n",
    "borough = []\n",
    "neighborhood = []"
   ]
  },
  {
   "cell_type": "code",
   "execution_count": 13,
   "metadata": {},
   "outputs": [],
   "source": [
    "for row in table.findAll('tr'):\n",
    "    cells = row.findAll('td')\n",
    "    if len(cells) == 3: \n",
    "        postcode.append(cells[0].find(text=True))\n",
    "        borough.append(cells[1].find(text=True))\n",
    "        neighborhood.append(cells[2].find(text=True))\n",
    "        \n",
    "#Create dataframe        \n",
    "df = pd.DataFrame(postcode, columns=['Postcode'])\n",
    "df['Borough'] = borough\n",
    "df['Neighborhood'] = neighborhood\n",
    "df = df[~df.Borough.str.contains('Not assigned')]\n",
    "df['Neighborhood'] = df['Neighborhood'].map(lambda x: x.rstrip('\\n'))"
   ]
  },
  {
   "cell_type": "code",
   "execution_count": 16,
   "metadata": {},
   "outputs": [
    {
     "data": {
      "text/plain": [
       "(103, 1)"
      ]
     },
     "execution_count": 16,
     "metadata": {},
     "output_type": "execute_result"
    }
   ],
   "source": [
    "for i, row in df.iterrows():\n",
    "    if row['Neighborhood'] == 'Nor assigned':\n",
    "        row['Neighborhood'] == row['Borough']\n",
    "\n",
    "strJoin = lambda x:\",\".join(x.astype(str))     \n",
    "new_df = df.groupby(['Postcode','Borough']).agg({\"Neighborhood\":strJoin})\n",
    "new_df.shape"
    "new_df"
   ]
  },
  {
   "cell_type": "code",
   "execution_count": null,
   "metadata": {},
   "outputs": [],
   "source": []
  }
 ],
 "metadata": {
  "kernelspec": {
   "display_name": "Python 3",
   "language": "python",
   "name": "python3"
  },
  "language_info": {
   "codemirror_mode": {
    "name": "ipython",
    "version": 3
   },
   "file_extension": ".py",
   "mimetype": "text/x-python",
   "name": "python",
   "nbconvert_exporter": "python",
   "pygments_lexer": "ipython3",
   "version": "3.7.3"
  }
 },
 "nbformat": 4,
 "nbformat_minor": 2
}
